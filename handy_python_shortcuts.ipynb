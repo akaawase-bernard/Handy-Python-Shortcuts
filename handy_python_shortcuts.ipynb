{
 "cells": [
  {
   "cell_type": "markdown",
   "id": "b735fab7-73fe-4c03-b29c-08897e97f3d7",
   "metadata": {},
   "source": [
    "# <span style=\"color:red\">__Sciencestical__</span> Day-5: __100__ handy Python __shortcuts__"
   ]
  },
  {
   "cell_type": "markdown",
   "id": "9b9e9cda-feba-4422-bc33-489a7874e193",
   "metadata": {},
   "source": [
    "## 1. Swapping variables"
   ]
  },
  {
   "cell_type": "code",
   "execution_count": 1,
   "id": "ad389981-1e16-43da-885e-fcc03fb1abd2",
   "metadata": {
    "tags": []
   },
   "outputs": [
    {
     "name": "stdout",
     "output_type": "stream",
     "text": [
      "Swapped values: a = 2, b = 1\n"
     ]
    }
   ],
   "source": [
    "a, b = 1, 2\n",
    "a, b = b, a\n",
    "print(f\"Swapped values: a = {a}, b = {b}\")"
   ]
  },
  {
   "cell_type": "markdown",
   "id": "c9516366-584a-4ba3-b3d9-a3a0140bfa78",
   "metadata": {},
   "source": [
    "## 2. List comprehensions"
   ]
  },
  {
   "cell_type": "code",
   "execution_count": 2,
   "id": "94282f15-6aae-4732-b4d3-5a3e4c86fe30",
   "metadata": {
    "tags": []
   },
   "outputs": [
    {
     "name": "stdout",
     "output_type": "stream",
     "text": [
      "Squares: [0, 1, 4, 9, 16, 25, 36, 49, 64, 81]\n"
     ]
    }
   ],
   "source": [
    "squares = [x**2 for x in range(10)]\n",
    "print(f\"Squares: {squares}\")"
   ]
  },
  {
   "cell_type": "markdown",
   "id": "525cee87-face-46f1-83c0-fadfd7e6248c",
   "metadata": {},
   "source": [
    "## 3. Dictionary comprehensions"
   ]
  },
  {
   "cell_type": "code",
   "execution_count": 3,
   "id": "4a95dbd7-689d-4a0b-a197-954dfd017553",
   "metadata": {
    "tags": []
   },
   "outputs": [
    {
     "name": "stdout",
     "output_type": "stream",
     "text": [
      "Square dict: {0: 0, 1: 1, 2: 4, 3: 9, 4: 16, 5: 25, 6: 36, 7: 49, 8: 64, 9: 81}\n"
     ]
    }
   ],
   "source": [
    "square_dict = {x: x**2 for x in range(10)}\n",
    "print(f\"Square dict: {square_dict}\")"
   ]
  },
  {
   "cell_type": "markdown",
   "id": "d5149051-96f8-41eb-8474-53442b88b0c0",
   "metadata": {},
   "source": [
    "## 4. Set comprehensions"
   ]
  },
  {
   "cell_type": "code",
   "execution_count": 4,
   "id": "b8bdbad5-9558-4eea-85da-d576394640b6",
   "metadata": {
    "tags": []
   },
   "outputs": [
    {
     "name": "stdout",
     "output_type": "stream",
     "text": [
      "Square set: {0, 1, 64, 4, 36, 9, 16, 49, 81, 25}\n"
     ]
    }
   ],
   "source": [
    "square_set = {x**2 for x in range(10)}\n",
    "print(f\"Square set: {square_set}\")"
   ]
  },
  {
   "cell_type": "markdown",
   "id": "8f0dec3e-eeaa-4e98-994f-401f3a973c75",
   "metadata": {},
   "source": [
    "## 5. Inline if-else"
   ]
  },
  {
   "cell_type": "code",
   "execution_count": 5,
   "id": "a4550266-f3b4-45ab-b302-51f3d5f2b0f2",
   "metadata": {
    "tags": []
   },
   "outputs": [
    {
     "name": "stdout",
     "output_type": "stream",
     "text": [
      "Status: adult\n"
     ]
    }
   ],
   "source": [
    "age = 18\n",
    "status = \"adult\" if age >= 18 else \"minor\"\n",
    "print(f\"Status: {status}\")"
   ]
  },
  {
   "cell_type": "markdown",
   "id": "3ecbaf9b-f38e-4a04-93a2-0062b4a98558",
   "metadata": {},
   "source": [
    "## 6. Multiple assignment"
   ]
  },
  {
   "cell_type": "code",
   "execution_count": 6,
   "id": "7957bae2-35cb-4aeb-8d82-679c790dbdd6",
   "metadata": {
    "tags": []
   },
   "outputs": [
    {
     "name": "stdout",
     "output_type": "stream",
     "text": [
      "Name: Bernard, Age: 27, City: Groton\n"
     ]
    }
   ],
   "source": [
    "name, age, city = \"Bernard\", 27, \"Groton\"\n",
    "print(f\"Name: {name}, Age: {age}, City: {city}\")"
   ]
  },
  {
   "cell_type": "markdown",
   "id": "2e2987f5-5761-47fd-9a85-fad73082390c",
   "metadata": {},
   "source": [
    "## 7. Unpacking sequences"
   ]
  },
  {
   "cell_type": "code",
   "execution_count": 7,
   "id": "d6a29a62-3598-4491-918d-52dbf32ae900",
   "metadata": {
    "tags": []
   },
   "outputs": [
    {
     "name": "stdout",
     "output_type": "stream",
     "text": [
      "Name: Akaawase, Age: 27, City: Makurdi\n"
     ]
    }
   ],
   "source": [
    "data = ('Akaawase', 27, 'Makurdi')\n",
    "name, age, city = data\n",
    "print(f\"Name: {name}, Age: {age}, City: {city}\")"
   ]
  },
  {
   "cell_type": "markdown",
   "id": "c383f23b-20d8-4e1e-bc67-879190e003b9",
   "metadata": {},
   "source": [
    "## 8. Merging dictionaries (Python 3.9+)"
   ]
  },
  {
   "cell_type": "code",
   "execution_count": 8,
   "id": "3b19a60f-e3d2-47b3-aaca-78914266b14f",
   "metadata": {
    "tags": []
   },
   "outputs": [
    {
     "name": "stdout",
     "output_type": "stream",
     "text": [
      "Merged dictionary: {'a': 1, 'b': 3, 'c': 4}\n"
     ]
    }
   ],
   "source": [
    "dict1 = {'a': 1, 'b': 2}\n",
    "dict2 = {'b': 3, 'c': 4}\n",
    "merged_dict = dict1 | dict2\n",
    "print(f\"Merged dictionary: {merged_dict}\")"
   ]
  },
  {
   "cell_type": "markdown",
   "id": "84b70ae0-1aee-4327-ac05-92c8cd412b93",
   "metadata": {},
   "source": [
    "## 9. Using zip to iterate over multiple sequences"
   ]
  },
  {
   "cell_type": "code",
   "execution_count": 9,
   "id": "86bf57b3-b3a0-4273-9d13-5f10b0c9c331",
   "metadata": {
    "tags": []
   },
   "outputs": [
    {
     "name": "stdout",
     "output_type": "stream",
     "text": [
      "Akaawase is 27 years old\n",
      "Bob is 25 years old\n",
      "Charlie is 35 years old\n"
     ]
    }
   ],
   "source": [
    "names = [\"Akaawase\", \"Bob\", \"Charlie\"]\n",
    "ages = [27, 25, 35]\n",
    "for name, age in zip(names, ages):\n",
    "    print(f\"{name} is {age} years old\")"
   ]
  },
  {
   "cell_type": "markdown",
   "id": "dec2924c-3508-4dcd-b8e8-e208454fe522",
   "metadata": {},
   "source": [
    "## 10. Enumerate for index and value"
   ]
  },
  {
   "cell_type": "code",
   "execution_count": 10,
   "id": "1f1757f5-76db-46ff-88a9-a32aa0549b53",
   "metadata": {
    "tags": []
   },
   "outputs": [
    {
     "name": "stdout",
     "output_type": "stream",
     "text": [
      "Index 0: apple\n",
      "Index 1: banana\n",
      "Index 2: cherry\n"
     ]
    }
   ],
   "source": [
    "fruits = ['apple', 'banana', 'cherry']\n",
    "for index, fruit in enumerate(fruits):\n",
    "    print(f\"Index {index}: {fruit}\")"
   ]
  },
  {
   "cell_type": "markdown",
   "id": "77b9fcbd-6bb2-497f-8d59-89a8cbbc55b1",
   "metadata": {},
   "source": [
    "## 11. Lambda functions for short anonymous functions"
   ]
  },
  {
   "cell_type": "code",
   "execution_count": 11,
   "id": "76aeebbe-4233-4218-a497-0db855852dbe",
   "metadata": {
    "tags": []
   },
   "outputs": [
    {
     "name": "stdout",
     "output_type": "stream",
     "text": [
      "Sum: 8\n"
     ]
    }
   ],
   "source": [
    "add = lambda x, y: x + y\n",
    "print(f\"Sum: {add(5, 3)}\")"
   ]
  },
  {
   "cell_type": "markdown",
   "id": "52aa71c2-7ea3-4beb-9b6b-0e172437bde2",
   "metadata": {},
   "source": [
    "## 12. Using * to unpack arguments"
   ]
  },
  {
   "cell_type": "code",
   "execution_count": 12,
   "id": "5c99f33c-5db1-412c-b1ff-5b73836938d9",
   "metadata": {
    "tags": []
   },
   "outputs": [
    {
     "name": "stdout",
     "output_type": "stream",
     "text": [
      "Product: 24\n"
     ]
    }
   ],
   "source": [
    "def multiply(x, y, z):\n",
    "    return x * y * z\n",
    "\n",
    "nums = (2, 3, 4)\n",
    "print(f\"Product: {multiply(*nums)}\")"
   ]
  },
  {
   "cell_type": "markdown",
   "id": "116db84f-2d5b-437c-b7a1-db22e5d5115f",
   "metadata": {},
   "source": [
    "## 13. Using ** to unpack keyword arguments"
   ]
  },
  {
   "cell_type": "code",
   "execution_count": 13,
   "id": "d3a4560e-efac-402c-9539-04b23b6583f8",
   "metadata": {
    "tags": []
   },
   "outputs": [
    {
     "name": "stdout",
     "output_type": "stream",
     "text": [
      "Hi, Teryima!\n"
     ]
    }
   ],
   "source": [
    "def greet(name, greeting=\"Hello\"):\n",
    "    return f\"{greeting}, {name}!\"\n",
    "\n",
    "params = {\"name\": \"Teryima\", \"greeting\": \"Hi\"}\n",
    "print(greet(**params))"
   ]
  },
  {
   "cell_type": "markdown",
   "id": "c4f01598-65fb-471c-b75f-bc0513715eec",
   "metadata": {},
   "source": [
    "## 14. List slicing"
   ]
  },
  {
   "cell_type": "code",
   "execution_count": 14,
   "id": "e2f2d48f-954f-4d1f-b99f-dabf01d9d1c0",
   "metadata": {
    "tags": []
   },
   "outputs": [
    {
     "name": "stdout",
     "output_type": "stream",
     "text": [
      "Sliced list (1:3): [2, 3]\n",
      "Sliced list (start to 3): [1, 2, 3]\n",
      "Sliced list (3 to end): [4, 5]\n",
      "Reversed list: [5, 4, 3, 2, 1]\n"
     ]
    }
   ],
   "source": [
    "lst = [1, 2, 3, 4, 5]\n",
    "print(f\"Sliced list (1:3): {lst[1:3]}\")\n",
    "print(f\"Sliced list (start to 3): {lst[:3]}\")\n",
    "print(f\"Sliced list (3 to end): {lst[3:]}\")\n",
    "print(f\"Reversed list: {lst[::-1]}\")"
   ]
  },
  {
   "cell_type": "markdown",
   "id": "f74741b3-b26f-4389-911b-089cbc007bc6",
   "metadata": {},
   "source": [
    "## 15. Using Counter for frequency counting"
   ]
  },
  {
   "cell_type": "code",
   "execution_count": 15,
   "id": "5c545957-3f6b-44f5-9e3d-e2c5f868e08c",
   "metadata": {
    "tags": []
   },
   "outputs": [
    {
     "name": "stdout",
     "output_type": "stream",
     "text": [
      "Word count: Counter({'apple': 3, 'banana': 2, 'orange': 1})\n"
     ]
    }
   ],
   "source": [
    "from collections import Counter\n",
    "words = [\"apple\", \"banana\", \"apple\", \"orange\", \"banana\", \"apple\"]\n",
    "word_count = Counter(words)\n",
    "print(f\"Word count: {word_count}\")"
   ]
  },
  {
   "cell_type": "markdown",
   "id": "c1347d46-b671-4ff5-9a1f-3b91c674a133",
   "metadata": {},
   "source": [
    "## 16. ChainMap for combining multiple dictionaries"
   ]
  },
  {
   "cell_type": "code",
   "execution_count": 16,
   "id": "c9137da5-7b70-4da1-994e-8bf68cd89126",
   "metadata": {
    "tags": []
   },
   "outputs": [
    {
     "name": "stdout",
     "output_type": "stream",
     "text": [
      "Combined ChainMap: ChainMap({'a': 1, 'b': 2}, {'b': 3, 'c': 4})\n"
     ]
    }
   ],
   "source": [
    "from collections import ChainMap\n",
    "dict1 = {'a': 1, 'b': 2}\n",
    "dict2 = {'b': 3, 'c': 4}\n",
    "combined = ChainMap(dict1, dict2)\n",
    "print(f\"Combined ChainMap: {combined}\")"
   ]
  },
  {
   "cell_type": "markdown",
   "id": "168cfa08-4195-4d95-88aa-8e37bf5dd3fb",
   "metadata": {},
   "source": [
    "## 17. Named tuples for simple classes"
   ]
  },
  {
   "cell_type": "code",
   "execution_count": 17,
   "id": "ae4fcff9-c914-4028-8f15-fcd0e9d19ff4",
   "metadata": {
    "tags": []
   },
   "outputs": [
    {
     "name": "stdout",
     "output_type": "stream",
     "text": [
      "Point: Point(x=11, y=22), x: 11, y: 22\n"
     ]
    }
   ],
   "source": [
    "from collections import namedtuple\n",
    "Point = namedtuple('Point', 'x y')\n",
    "p = Point(11, 22)\n",
    "print(f\"Point: {p}, x: {p.x}, y: {p.y}\")"
   ]
  },
  {
   "cell_type": "markdown",
   "id": "de90a7c1-c1ee-4353-a8d7-6f64e524ede2",
   "metadata": {},
   "source": [
    "## 18. Using itertools for efficient looping"
   ]
  },
  {
   "cell_type": "code",
   "execution_count": 18,
   "id": "91694de4-85e8-4688-8ea2-a2e872999c1d",
   "metadata": {
    "tags": []
   },
   "outputs": [
    {
     "name": "stdout",
     "output_type": "stream",
     "text": [
      "Permutations of 'AB': [('A', 'B'), ('B', 'A')]\n",
      "Combinations of 'AB': [('A',), ('B',)]\n"
     ]
    }
   ],
   "source": [
    "from itertools import permutations, combinations\n",
    "print(f\"Permutations of 'AB': {list(permutations('AB'))}\")\n",
    "print(f\"Combinations of 'AB': {list(combinations('AB', 1))}\")"
   ]
  },
  {
   "cell_type": "markdown",
   "id": "d88bdc1e-bb52-421a-b04a-6a40ab5d4e19",
   "metadata": {},
   "source": [
    "## 19. Context managers for resource management"
   ]
  },
  {
   "cell_type": "code",
   "execution_count": 19,
   "id": "9ccbcaf6-17d2-4ed7-b0a2-47783f22fce4",
   "metadata": {
    "tags": []
   },
   "outputs": [],
   "source": [
    "with open('data/example.txt', 'w') as f:\n",
    "    f.write(\"Hello, world!\")"
   ]
  },
  {
   "cell_type": "markdown",
   "id": "2bfe1eca-96ee-4137-b9c4-cd94e4160fdf",
   "metadata": {},
   "source": [
    "## 20. f-strings for formatted strings (Python 3.6+)"
   ]
  },
  {
   "cell_type": "code",
   "execution_count": 20,
   "id": "058daf60-56fe-4366-813f-2315f465c065",
   "metadata": {
    "tags": []
   },
   "outputs": [
    {
     "name": "stdout",
     "output_type": "stream",
     "text": [
      "My name is Akaawase and I am 27 years old.\n"
     ]
    }
   ],
   "source": [
    "name = \"Akaawase\"\n",
    "age = 27\n",
    "print(f\"My name is {name} and I am {age} years old.\")"
   ]
  },
  {
   "cell_type": "markdown",
   "id": "77c193cb-9dab-40ed-b9b9-aed1ab64ce7f",
   "metadata": {},
   "source": [
    "## 21. Ternary conditional operator"
   ]
  },
  {
   "cell_type": "code",
   "execution_count": 21,
   "id": "b5c5698f-a421-4565-9a2f-05e1af5049b1",
   "metadata": {
    "tags": []
   },
   "outputs": [
    {
     "name": "stdout",
     "output_type": "stream",
     "text": [
      "Age is Odd\n"
     ]
    }
   ],
   "source": [
    "result = \"Even\" if age % 2 == 0 else \"Odd\"\n",
    "print(f\"Age is {result}\")"
   ]
  },
  {
   "cell_type": "markdown",
   "id": "267b30b7-0ff6-4a97-9ecf-cc8a816db3f9",
   "metadata": {},
   "source": [
    "## 22. Flatten a list of lists"
   ]
  },
  {
   "cell_type": "code",
   "execution_count": 22,
   "id": "dc62d7c7-016a-45bd-806f-c189274fedc1",
   "metadata": {
    "tags": []
   },
   "outputs": [
    {
     "name": "stdout",
     "output_type": "stream",
     "text": [
      "Flat list: [1, 2, 3, 4, 5, 6, 7, 8, 9]\n"
     ]
    }
   ],
   "source": [
    "nested_list = [[1, 2, 3], [4, 5, 6], [7, 8, 9]]\n",
    "flat_list = [item for sublist in nested_list for item in sublist]\n",
    "print(f\"Flat list: {flat_list}\")"
   ]
  },
  {
   "cell_type": "markdown",
   "id": "5bc93e8f-8a30-4f89-bc28-e936bbdb59e3",
   "metadata": {},
   "source": [
    "## 23. Transpose a matrix"
   ]
  },
  {
   "cell_type": "code",
   "execution_count": 23,
   "id": "e4bde2da-8eda-4078-9377-d50360cbfa2c",
   "metadata": {
    "tags": []
   },
   "outputs": [
    {
     "name": "stdout",
     "output_type": "stream",
     "text": [
      "Transposed matrix: [(1, 4, 7), (2, 5, 8), (3, 6, 9)]\n"
     ]
    }
   ],
   "source": [
    "matrix = [[1, 2, 3], [4, 5, 6], [7, 8, 9]]\n",
    "transposed = list(zip(*matrix))\n",
    "print(f\"Transposed matrix: {transposed}\")"
   ]
  },
  {
   "cell_type": "markdown",
   "id": "5007f7f9-f0a6-49ae-ab09-9a28f860ad47",
   "metadata": {},
   "source": [
    "## 24. Using defaultdict for missing keys"
   ]
  },
  {
   "cell_type": "code",
   "execution_count": 24,
   "id": "67f80b32-0de4-4bd8-8a87-330e5614dcf6",
   "metadata": {
    "tags": []
   },
   "outputs": [
    {
     "name": "stdout",
     "output_type": "stream",
     "text": [
      "defaultdict: defaultdict(<class 'int'>, {'key': 1})\n"
     ]
    }
   ],
   "source": [
    "from collections import defaultdict\n",
    "dd = defaultdict(int)\n",
    "dd['key'] += 1\n",
    "print(f\"defaultdict: {dd}\")"
   ]
  },
  {
   "cell_type": "markdown",
   "id": "4bcf67df-1f0e-4fa8-a1c7-0e4d1dbc6ca0",
   "metadata": {},
   "source": [
    "## 25. Using get() with dictionaries"
   ]
  },
  {
   "cell_type": "code",
   "execution_count": 25,
   "id": "c75b23d1-1d99-422c-b208-a527cffad7ac",
   "metadata": {
    "tags": []
   },
   "outputs": [
    {
     "name": "stdout",
     "output_type": "stream",
     "text": [
      "Value for key 'c': 0\n"
     ]
    }
   ],
   "source": [
    "d = {'a': 1, 'b': 2}\n",
    "value = d.get('c', 0)\n",
    "print(f\"Value for key 'c': {value}\")"
   ]
  },
  {
   "cell_type": "markdown",
   "id": "4be6cf0a-e032-4372-8c3b-cbdc189e2de6",
   "metadata": {},
   "source": [
    "## 26. Using slice object"
   ]
  },
  {
   "cell_type": "code",
   "execution_count": 26,
   "id": "1c655332-ce96-46a8-a557-bbe728d6a6af",
   "metadata": {
    "tags": []
   },
   "outputs": [
    {
     "name": "stdout",
     "output_type": "stream",
     "text": [
      "Sliced data: [1, 3]\n"
     ]
    }
   ],
   "source": [
    "data = [0, 1, 2, 3, 4, 5, 6]\n",
    "s = slice(1, 5, 2)\n",
    "print(f\"Sliced data: {data[s]}\")"
   ]
  },
  {
   "cell_type": "markdown",
   "id": "6aaa303c-590d-4103-bb0e-35fe876eb8af",
   "metadata": {},
   "source": [
    "## 27. Using any() and all()"
   ]
  },
  {
   "cell_type": "code",
   "execution_count": 27,
   "id": "f1aff5f6-b137-4245-bec2-4333332230e5",
   "metadata": {
    "tags": []
   },
   "outputs": [
    {
     "name": "stdout",
     "output_type": "stream",
     "text": [
      "Any true: True\n",
      "All true: False\n"
     ]
    }
   ],
   "source": [
    "conditions = [True, False, True]\n",
    "print(f\"Any true: {any(conditions)}\")\n",
    "print(f\"All true: {all(conditions)}\")"
   ]
  },
  {
   "cell_type": "markdown",
   "id": "f01dd926-d9f3-4dd6-abf4-e13c708c3c4e",
   "metadata": {},
   "source": [
    "## 28. Using enumerate to create a dict"
   ]
  },
  {
   "cell_type": "code",
   "execution_count": 28,
   "id": "8a1c5e08-16bf-4658-ab41-717f36f5daac",
   "metadata": {
    "tags": []
   },
   "outputs": [
    {
     "name": "stdout",
     "output_type": "stream",
     "text": [
      "Enumerate dict: {0: 'a', 1: 'b', 2: 'c'}\n"
     ]
    }
   ],
   "source": [
    "elements = ['a', 'b', 'c']\n",
    "enum_dict = dict(enumerate(elements))\n",
    "print(f\"Enumerate dict: {enum_dict}\")"
   ]
  },
  {
   "cell_type": "markdown",
   "id": "0e1bd1c5-b769-4cd9-9bb8-1d96098fc67e",
   "metadata": {},
   "source": [
    "## 29. String join method"
   ]
  },
  {
   "cell_type": "code",
   "execution_count": 29,
   "id": "a73b2acf-4e3a-4be0-9e54-69842187a459",
   "metadata": {
    "tags": []
   },
   "outputs": [
    {
     "name": "stdout",
     "output_type": "stream",
     "text": [
      "Sentence: Hello Linkedin\n"
     ]
    }
   ],
   "source": [
    "words = ['Hello', 'Linkedin']\n",
    "sentence = ' '.join(words)\n",
    "print(f\"Sentence: {sentence}\")"
   ]
  },
  {
   "cell_type": "markdown",
   "id": "3d0d0515-ee1b-44c3-aaed-b0ea7356ceff",
   "metadata": {},
   "source": [
    "## 30. Reverse a string"
   ]
  },
  {
   "cell_type": "code",
   "execution_count": 30,
   "id": "d19d91e1-53e1-4537-8bb8-d6429149c9a9",
   "metadata": {
    "tags": []
   },
   "outputs": [
    {
     "name": "stdout",
     "output_type": "stream",
     "text": [
      "Reversed string: olleh\n"
     ]
    }
   ],
   "source": [
    "reversed_str = 'hello'[::-1]\n",
    "print(f\"Reversed string: {reversed_str}\")"
   ]
  },
  {
   "cell_type": "markdown",
   "id": "0f41a61d-ad29-4a8c-997d-a8077a072920",
   "metadata": {},
   "source": [
    "## 31. Check for palindrome"
   ]
  },
  {
   "cell_type": "code",
   "execution_count": 31,
   "id": "3802dfce-6b15-4a5d-81a0-300f6e593fb4",
   "metadata": {
    "tags": []
   },
   "outputs": [
    {
     "name": "stdout",
     "output_type": "stream",
     "text": [
      "Is palindrome: True\n"
     ]
    }
   ],
   "source": [
    "word = \"racecar\"\n",
    "is_palindrome = word == word[::-1]\n",
    "print(f\"Is palindrome: {is_palindrome}\")"
   ]
  },
  {
   "cell_type": "markdown",
   "id": "478c959e-feb8-46fd-8cb8-015586319ed7",
   "metadata": {},
   "source": [
    "## 32. Using filter with lambda"
   ]
  },
  {
   "cell_type": "code",
   "execution_count": 32,
   "id": "e9c95566-04f7-4acb-87c2-0f08bc8b60e6",
   "metadata": {
    "tags": []
   },
   "outputs": [
    {
     "name": "stdout",
     "output_type": "stream",
     "text": [
      "Even numbers: [2, 4, 6]\n"
     ]
    }
   ],
   "source": [
    "nums = [1, 2, 3, 4, 5, 6]\n",
    "even_nums = list(filter(lambda x: x % 2 == 0, nums))\n",
    "print(f\"Even numbers: {even_nums}\")"
   ]
  },
  {
   "cell_type": "markdown",
   "id": "a2f05c3f-6b8d-468c-b24c-4735df901c66",
   "metadata": {},
   "source": [
    "## 33. Using map with lambda"
   ]
  },
  {
   "cell_type": "code",
   "execution_count": 33,
   "id": "eda7e9ab-1e0c-4636-b01a-8a50a8c47026",
   "metadata": {
    "tags": []
   },
   "outputs": [
    {
     "name": "stdout",
     "output_type": "stream",
     "text": [
      "Squared numbers: [1, 4, 9, 16, 25, 36]\n"
     ]
    }
   ],
   "source": [
    "squared_nums = list(map(lambda x: x ** 2, nums))\n",
    "print(f\"Squared numbers: {squared_nums}\")"
   ]
  },
  {
   "cell_type": "markdown",
   "id": "e1dc0f79-aa68-4355-97b0-62c087de54ea",
   "metadata": {},
   "source": [
    "## 34. Using reduce for cumulative operation"
   ]
  },
  {
   "cell_type": "code",
   "execution_count": 34,
   "id": "8983194b-656c-4c0a-bcca-9f925379967a",
   "metadata": {
    "tags": []
   },
   "outputs": [
    {
     "name": "stdout",
     "output_type": "stream",
     "text": [
      "Product of numbers: 720\n"
     ]
    }
   ],
   "source": [
    "from functools import reduce\n",
    "product = reduce(lambda x, y: x * y, nums)\n",
    "print(f\"Product of numbers: {product}\")"
   ]
  },
  {
   "cell_type": "markdown",
   "id": "0f19acec-9e22-4302-969f-90f6855e11a3",
   "metadata": {},
   "source": [
    "# 35. Using sorted with custom key"
   ]
  },
  {
   "cell_type": "code",
   "execution_count": 35,
   "id": "91af8724-5fae-4b94-ab7a-abd47a500066",
   "metadata": {
    "tags": []
   },
   "outputs": [
    {
     "name": "stdout",
     "output_type": "stream",
     "text": [
      "Sorted by length: ['apple', 'banana', 'cherry']\n"
     ]
    }
   ],
   "source": [
    "words = [\"apple\", \"banana\", \"cherry\"]\n",
    "sorted_words = sorted(words, key=lambda x: len(x))\n",
    "print(f\"Sorted by length: {sorted_words}\")"
   ]
  },
  {
   "cell_type": "markdown",
   "id": "f1749647-7f33-4ebf-bb51-8d41d32e2d90",
   "metadata": {},
   "source": [
    "# 36. Checking for subset and superset"
   ]
  },
  {
   "cell_type": "code",
   "execution_count": 36,
   "id": "225a2035-fe97-46b7-b0b5-357f9275c577",
   "metadata": {
    "tags": []
   },
   "outputs": [
    {
     "name": "stdout",
     "output_type": "stream",
     "text": [
      "Is subset: True, Is superset: True\n"
     ]
    }
   ],
   "source": [
    "set_a = {1, 2, 3}\n",
    "set_b = {1, 2}\n",
    "is_subset = set_b.issubset(set_a)\n",
    "is_superset = set_a.issuperset(set_b)\n",
    "print(f\"Is subset: {is_subset}, Is superset: {is_superset}\")"
   ]
  },
  {
   "cell_type": "markdown",
   "id": "31f4b74b-fb5f-4d7b-bfaa-70ad6d5def9c",
   "metadata": {},
   "source": [
    "# 37. Using itertools.chain for flattening lists"
   ]
  },
  {
   "cell_type": "code",
   "execution_count": 37,
   "id": "c417872d-f062-4e9e-8e5c-a5f6b44b03fa",
   "metadata": {
    "tags": []
   },
   "outputs": [
    {
     "name": "stdout",
     "output_type": "stream",
     "text": [
      "Flattened list: [1, 2, 3, 4, 5, 6, 7, 8]\n"
     ]
    }
   ],
   "source": [
    "from itertools import chain\n",
    "nested = [[1, 2, 3], [4, 5], [6, 7, 8]]\n",
    "flat = list(chain(*nested))\n",
    "print(f\"Flattened list: {flat}\")"
   ]
  },
  {
   "cell_type": "markdown",
   "id": "45444c7e-0450-4d2a-8452-50225fd7990c",
   "metadata": {},
   "source": [
    "# 38. Using a generator expression"
   ]
  },
  {
   "cell_type": "code",
   "execution_count": 38,
   "id": "e72738d6-aa2b-446a-93df-9b8f7a90f5fc",
   "metadata": {
    "tags": []
   },
   "outputs": [
    {
     "name": "stdout",
     "output_type": "stream",
     "text": [
      "Generator expression: [0, 1, 4, 9, 16, 25, 36, 49, 64, 81]\n"
     ]
    }
   ],
   "source": [
    "gen_exp = (x**2 for x in range(10))\n",
    "print(f\"Generator expression: {list(gen_exp)}\")"
   ]
  },
  {
   "cell_type": "markdown",
   "id": "95ef422d-cfca-4273-9389-fc245ac23d1e",
   "metadata": {},
   "source": [
    "# 39. Reading a file line by line"
   ]
  },
  {
   "cell_type": "code",
   "execution_count": 39,
   "id": "56aa1417-3ac0-4b4c-ae76-190e9d9a7d71",
   "metadata": {
    "tags": []
   },
   "outputs": [
    {
     "name": "stdout",
     "output_type": "stream",
     "text": [
      "File lines: ['Hello, world!']\n"
     ]
    }
   ],
   "source": [
    "with open('data/example.txt', 'r') as f:\n",
    "    lines = f.readlines()\n",
    "print(f\"File lines: {lines}\")"
   ]
  },
  {
   "cell_type": "markdown",
   "id": "3446e51d-49b5-4d0a-9212-231c42846b55",
   "metadata": {},
   "source": [
    "# 40. Writing multiple lines to a file"
   ]
  },
  {
   "cell_type": "code",
   "execution_count": 40,
   "id": "17379858-3c6c-4d8c-9648-7dc6ec7f30ca",
   "metadata": {
    "tags": []
   },
   "outputs": [],
   "source": [
    "lines_to_write = [\"Line 1\", \"Line 2\", \"Line 3\"]\n",
    "with open('data/example0.txt', 'w') as f:\n",
    "    f.writelines('\\n'.join(lines_to_write))"
   ]
  },
  {
   "cell_type": "markdown",
   "id": "42d963a4-11e5-4a56-bf26-b925bcd445ed",
   "metadata": {},
   "source": [
    "# 41. Simple class with __str__ method"
   ]
  },
  {
   "cell_type": "code",
   "execution_count": 41,
   "id": "9e9266d8-aa01-4bb2-b1a2-74c9f9f6423f",
   "metadata": {
    "tags": []
   },
   "outputs": [
    {
     "name": "stdout",
     "output_type": "stream",
     "text": [
      "Akaawase, 27 years old\n"
     ]
    }
   ],
   "source": [
    "class Person:\n",
    "    def __init__(self, name, age):\n",
    "        self.name = name\n",
    "        self.age = age\n",
    "\n",
    "    def __str__(self):\n",
    "        return f\"{self.name}, {self.age} years old\"\n",
    "\n",
    "person = Person(\"Akaawase\", 27)\n",
    "print(person)"
   ]
  },
  {
   "cell_type": "markdown",
   "id": "c883d7d6-5a8a-4374-a4eb-ac3f37ed7e0e",
   "metadata": {},
   "source": [
    "## 42. Using dataclasses (Python 3.7+)"
   ]
  },
  {
   "cell_type": "code",
   "execution_count": 42,
   "id": "ec8ecc14-a4a2-4e20-8373-7a4e9d5e403c",
   "metadata": {
    "tags": []
   },
   "outputs": [
    {
     "name": "stdout",
     "output_type": "stream",
     "text": [
      "Car(make='Toyota', model='Corolla', year=2020)\n"
     ]
    }
   ],
   "source": [
    "from dataclasses import dataclass\n",
    "\n",
    "@dataclass\n",
    "class Car:\n",
    "    make: str\n",
    "    model: str\n",
    "    year: int\n",
    "\n",
    "car = Car(make=\"Toyota\", model=\"Corolla\", year=2020)\n",
    "print(car)"
   ]
  },
  {
   "cell_type": "markdown",
   "id": "1574eecd-0ad4-47b1-ae6d-63286e973d63",
   "metadata": {},
   "source": [
    "# 43. Using __slots__ to save memory"
   ]
  },
  {
   "cell_type": "code",
   "execution_count": 43,
   "id": "61a0f318-2436-4b51-9a1d-e45511c684d9",
   "metadata": {
    "tags": []
   },
   "outputs": [
    {
     "name": "stdout",
     "output_type": "stream",
     "text": [
      "Point with slots: (10, 20)\n"
     ]
    }
   ],
   "source": [
    "class PointWithSlots:\n",
    "    __slots__ = ['x', 'y']\n",
    "\n",
    "    def __init__(self, x, y):\n",
    "        self.x = x\n",
    "        self.y = y\n",
    "\n",
    "p = PointWithSlots(10, 20)\n",
    "print(f\"Point with slots: ({p.x}, {p.y})\")"
   ]
  },
  {
   "cell_type": "markdown",
   "id": "5c2755ee-0cd5-4d67-967e-487cf7e4e415",
   "metadata": {},
   "source": [
    "# 44. Using @property decorator"
   ]
  },
  {
   "cell_type": "code",
   "execution_count": 44,
   "id": "9e68607c-3c7f-41ad-8f1b-b2a30a2a3787",
   "metadata": {},
   "outputs": [
    {
     "name": "stdout",
     "output_type": "stream",
     "text": [
      "Circle radius: 5\n",
      "Updated circle radius: 10\n"
     ]
    }
   ],
   "source": [
    "class Circle:\n",
    "    def __init__(self, radius):\n",
    "        self._radius = radius\n",
    "\n",
    "    @property\n",
    "    def radius(self):\n",
    "        return self._radius\n",
    "\n",
    "    @radius.setter\n",
    "    def radius(self, value):\n",
    "        if value >= 0:\n",
    "            self._radius = value\n",
    "        else:\n",
    "            raise ValueError(\"Radius must be non-negative\")\n",
    "\n",
    "circle = Circle(5)\n",
    "print(f\"Circle radius: {circle.radius}\")\n",
    "circle.radius = 10\n",
    "print(f\"Updated circle radius: {circle.radius}\")"
   ]
  },
  {
   "cell_type": "markdown",
   "id": "a53f9c5e-34cb-4ec5-a4fa-c21dd2a31277",
   "metadata": {
    "tags": []
   },
   "source": [
    "# 45. Using collections.deque for fast appends and pops"
   ]
  },
  {
   "cell_type": "code",
   "execution_count": 45,
   "id": "11f07bb7-8230-4e1f-977b-b1b214a1938b",
   "metadata": {
    "tags": []
   },
   "outputs": [
    {
     "name": "stdout",
     "output_type": "stream",
     "text": [
      "Deque: deque([0, 1, 2, 3, 4])\n"
     ]
    }
   ],
   "source": [
    "from collections import deque\n",
    "dq = deque([1, 2, 3])\n",
    "dq.appendleft(0)\n",
    "dq.append(4)\n",
    "print(f\"Deque: {dq}\")"
   ]
  },
  {
   "cell_type": "markdown",
   "id": "33a7893b-7574-423a-b09f-869d41e84f72",
   "metadata": {
    "tags": []
   },
   "source": [
    "# 46. Using bisect to maintain a sorted list"
   ]
  },
  {
   "cell_type": "code",
   "execution_count": 46,
   "id": "cd3f155c-4181-4209-b787-1e872ee9b18a",
   "metadata": {
    "tags": []
   },
   "outputs": [
    {
     "name": "stdout",
     "output_type": "stream",
     "text": [
      "Sorted list with insort: [1, 2, 3, 4, 5]\n"
     ]
    }
   ],
   "source": [
    "import bisect\n",
    "sorted_list = [1, 2, 4, 5]\n",
    "bisect.insort(sorted_list, 3)\n",
    "print(f\"Sorted list with insort: {sorted_list}\")"
   ]
  },
  {
   "cell_type": "markdown",
   "id": "5a6db336-efff-42bb-8c89-fd10d913d222",
   "metadata": {
    "tags": []
   },
   "source": [
    "# 47. Using heapq for a priority queue"
   ]
  },
  {
   "cell_type": "code",
   "execution_count": 47,
   "id": "d0d3f22e-af8a-41cc-a6ad-9b547e8f6f54",
   "metadata": {
    "tags": []
   },
   "outputs": [
    {
     "name": "stdout",
     "output_type": "stream",
     "text": [
      "Heapified list: [1, 1, 4, 3, 5, 9]\n",
      "Heap after push: [1, 1, 2, 3, 5, 9, 4]\n",
      "Smallest element: 1\n"
     ]
    }
   ],
   "source": [
    "import heapq\n",
    "heap = [3, 1, 4, 1, 5, 9]\n",
    "heapq.heapify(heap)\n",
    "print(f\"Heapified list: {heap}\")\n",
    "heapq.heappush(heap, 2)\n",
    "print(f\"Heap after push: {heap}\")\n",
    "smallest = heapq.heappop(heap)\n",
    "print(f\"Smallest element: {smallest}\")"
   ]
  },
  {
   "cell_type": "markdown",
   "id": "87edd98c-d295-4f11-a626-be33272d1513",
   "metadata": {
    "tags": []
   },
   "source": [
    "# 48. Using lru_cache for memoization"
   ]
  },
  {
   "cell_type": "code",
   "execution_count": 48,
   "id": "7756926e-176e-43f6-9530-ddc6f9bb09a2",
   "metadata": {
    "tags": []
   },
   "outputs": [
    {
     "name": "stdout",
     "output_type": "stream",
     "text": [
      "Fibonacci(10): 55\n"
     ]
    }
   ],
   "source": [
    "from functools import lru_cache\n",
    "\n",
    "@lru_cache(maxsize=None)\n",
    "def fibonacci(n):\n",
    "    if n < 2:\n",
    "        return n\n",
    "    return fibonacci(n-1) + fibonacci(n-2)\n",
    "\n",
    "print(f\"Fibonacci(10): {fibonacci(10)}\")"
   ]
  },
  {
   "cell_type": "markdown",
   "id": "75f23f09-79f0-4b40-bfd4-18abecce15c9",
   "metadata": {
    "tags": []
   },
   "source": [
    "# 49. Using partial to fix arguments"
   ]
  },
  {
   "cell_type": "code",
   "execution_count": 49,
   "id": "9b83fb1d-c791-417d-885b-3a6637fea02a",
   "metadata": {
    "tags": []
   },
   "outputs": [
    {
     "name": "stdout",
     "output_type": "stream",
     "text": [
      "Square of 4: 16\n"
     ]
    }
   ],
   "source": [
    "from functools import partial\n",
    "\n",
    "def power(base, exponent):\n",
    "    return base ** exponent\n",
    "\n",
    "square = partial(power, exponent=2)\n",
    "print(f\"Square of 4: {square(4)}\")"
   ]
  },
  {
   "cell_type": "markdown",
   "id": "59f8ff97-ac83-486a-885f-d54d62f08a6e",
   "metadata": {
    "tags": []
   },
   "source": [
    "# 50. Using namedtuple for structured data"
   ]
  },
  {
   "cell_type": "code",
   "execution_count": 50,
   "id": "916e7d9b-b5bc-457d-8111-2c0345fd1b82",
   "metadata": {
    "tags": []
   },
   "outputs": [
    {
     "name": "stdout",
     "output_type": "stream",
     "text": [
      "Namedtuple person: Person(name='Alice', age=30)\n"
     ]
    }
   ],
   "source": [
    "from collections import namedtuple\n",
    "\n",
    "Person = namedtuple('Person', 'name age')\n",
    "alice = Person(name=\"Alice\", age=30)\n",
    "print(f\"Namedtuple person: {alice}\")"
   ]
  },
  {
   "cell_type": "markdown",
   "id": "7ff742af-a04b-421d-a212-f4bfe01c4664",
   "metadata": {
    "tags": []
   },
   "source": [
    "# 51. Using frozenset for immutable sets"
   ]
  },
  {
   "cell_type": "code",
   "execution_count": 51,
   "id": "9c0367a0-6956-492a-bf75-d7ca58235d65",
   "metadata": {
    "tags": []
   },
   "outputs": [
    {
     "name": "stdout",
     "output_type": "stream",
     "text": [
      "Frozenset: frozenset({1, 2, 3})\n"
     ]
    }
   ],
   "source": [
    "immutable_set = frozenset([1, 2, 3])\n",
    "print(f\"Frozenset: {immutable_set}\")"
   ]
  },
  {
   "cell_type": "markdown",
   "id": "46212938-21af-4a2d-a3a5-c1d4ca318ac8",
   "metadata": {
    "tags": []
   },
   "source": [
    "# 52. Using islice for slicing iterators"
   ]
  },
  {
   "cell_type": "code",
   "execution_count": 52,
   "id": "863cfa7c-ded6-43ee-b27d-0b16d9e5031c",
   "metadata": {
    "tags": []
   },
   "outputs": [
    {
     "name": "stdout",
     "output_type": "stream",
     "text": [
      "Sliced iterator: [2, 3, 4, 5]\n"
     ]
    }
   ],
   "source": [
    "from itertools import islice\n",
    "\n",
    "iterable = iter(range(10))\n",
    "sliced = list(islice(iterable, 2, 6))\n",
    "print(f\"Sliced iterator: {sliced}\")"
   ]
  },
  {
   "cell_type": "markdown",
   "id": "ccb607d4-aa46-450b-a75c-97c8393f04b4",
   "metadata": {
    "tags": []
   },
   "source": [
    "# 53. Using groupby to group elements"
   ]
  },
  {
   "cell_type": "code",
   "execution_count": 53,
   "id": "d48088e8-a774-410e-a0a0-cf6d8364107d",
   "metadata": {
    "tags": []
   },
   "outputs": [
    {
     "name": "stdout",
     "output_type": "stream",
     "text": [
      "Grouped data: {'a': [('a', 1), ('a', 3)], 'b': [('b', 2)]}\n"
     ]
    }
   ],
   "source": [
    "from itertools import groupby\n",
    "\n",
    "data = sorted([('a', 1), ('b', 2), ('a', 3)])\n",
    "grouped = {k: list(v) for k, v in groupby(data, key=lambda x: x[0])}\n",
    "print(f\"Grouped data: {grouped}\")"
   ]
  },
  {
   "cell_type": "markdown",
   "id": "bb20d468-9314-45b1-b892-30316f8eee22",
   "metadata": {
    "tags": []
   },
   "source": [
    "# 54. Using compress to filter by a mask"
   ]
  },
  {
   "cell_type": "code",
   "execution_count": 54,
   "id": "f9ae3c6c-1ffb-4ddb-8460-298c873e5793",
   "metadata": {
    "tags": []
   },
   "outputs": [
    {
     "name": "stdout",
     "output_type": "stream",
     "text": [
      "Filtered by mask: [0, 2, 4, 6, 8]\n"
     ]
    }
   ],
   "source": [
    "from itertools import compress\n",
    "\n",
    "data = range(10)\n",
    "selectors = [1, 0, 1, 0, 1, 0, 1, 0, 1, 0]\n",
    "filtered = list(compress(data, selectors))\n",
    "print(f\"Filtered by mask: {filtered}\")"
   ]
  },
  {
   "cell_type": "markdown",
   "id": "8defcc0b-f40e-4e3f-9ade-24ccdf7b9259",
   "metadata": {
    "tags": []
   },
   "source": [
    "# 55. Using combinations_with_replacement"
   ]
  },
  {
   "cell_type": "code",
   "execution_count": 55,
   "id": "898af147-f138-4467-9d94-4c45fb83d5f0",
   "metadata": {
    "tags": []
   },
   "outputs": [
    {
     "name": "stdout",
     "output_type": "stream",
     "text": [
      "Combinations with replacement: [('A', 'A'), ('A', 'B'), ('A', 'C'), ('B', 'B'), ('B', 'C'), ('C', 'C')]\n"
     ]
    }
   ],
   "source": [
    "from itertools import combinations_with_replacement\n",
    "\n",
    "comb_wr = list(combinations_with_replacement('ABC', 2))\n",
    "print(f\"Combinations with replacement: {comb_wr}\")"
   ]
  },
  {
   "cell_type": "markdown",
   "id": "2b986191-4e81-4425-9635-8fd10505d5ec",
   "metadata": {
    "tags": []
   },
   "source": [
    "# 56. Simple recursive function"
   ]
  },
  {
   "cell_type": "code",
   "execution_count": 56,
   "id": "92a43d21-4096-4b96-87e3-fae4e4a8a2b1",
   "metadata": {
    "tags": []
   },
   "outputs": [
    {
     "name": "stdout",
     "output_type": "stream",
     "text": [
      "Factorial(5): 120\n"
     ]
    }
   ],
   "source": [
    "def factorial(n):\n",
    "    if n == 0:\n",
    "        return 1\n",
    "    return n * factorial(n-1)\n",
    "\n",
    "print(f\"Factorial(5): {factorial(5)}\")"
   ]
  },
  {
   "cell_type": "markdown",
   "id": "062b30ee-d6fa-4ad4-b8e8-c2997820badf",
   "metadata": {
    "tags": []
   },
   "source": [
    "# 57. Using contextlib for simple context managers"
   ]
  },
  {
   "cell_type": "code",
   "execution_count": 57,
   "id": "5ecccc39-6a95-46e6-8ece-0a3bb1eec2af",
   "metadata": {
    "tags": []
   },
   "outputs": [
    {
     "name": "stdout",
     "output_type": "stream",
     "text": [
      "Entering\n",
      "Inside context\n",
      "Exiting\n"
     ]
    }
   ],
   "source": [
    "from contextlib import contextmanager\n",
    "\n",
    "@contextmanager\n",
    "def simple_context():\n",
    "    print(\"Entering\")\n",
    "    yield\n",
    "    print(\"Exiting\")\n",
    "\n",
    "with simple_context():\n",
    "    print(\"Inside context\")"
   ]
  },
  {
   "cell_type": "markdown",
   "id": "fef6142b-3502-45d5-b0fa-b189e1c5a88e",
   "metadata": {
    "tags": []
   },
   "source": [
    "# 58. Using counter with most_common"
   ]
  },
  {
   "cell_type": "code",
   "execution_count": 58,
   "id": "3d3481eb-a949-47b7-b7c2-d9c1455be3f9",
   "metadata": {
    "tags": []
   },
   "outputs": [
    {
     "name": "stdout",
     "output_type": "stream",
     "text": [
      "Most common elements: [('a', 5), ('b', 2), ('r', 2)]\n"
     ]
    }
   ],
   "source": [
    "from collections import Counter\n",
    "\n",
    "counter = Counter(\"abracadabra\")\n",
    "print(f\"Most common elements: {counter.most_common(3)}\")"
   ]
  },
  {
   "cell_type": "markdown",
   "id": "4ca994fc-7d65-47e4-8eb9-3661c19b1e4c",
   "metadata": {
    "tags": []
   },
   "source": [
    "# 59. Using defaultdict for list"
   ]
  },
  {
   "cell_type": "code",
   "execution_count": 59,
   "id": "afe2fe67-8fe3-4d92-9b2c-5f353f898598",
   "metadata": {
    "tags": []
   },
   "outputs": [
    {
     "name": "stdout",
     "output_type": "stream",
     "text": [
      "defaultdict with list: defaultdict(<class 'list'>, {'key': ['value']})\n"
     ]
    }
   ],
   "source": [
    "d = defaultdict(list)\n",
    "d['key'].append('value')\n",
    "print(f\"defaultdict with list: {d}\")"
   ]
  },
  {
   "cell_type": "markdown",
   "id": "0e6b9e2a-0b7c-4ad2-8b0b-bdbcb9fe2d91",
   "metadata": {
    "tags": []
   },
   "source": [
    "# 60. Using tarfile to compress files"
   ]
  },
  {
   "cell_type": "code",
   "execution_count": 60,
   "id": "165e668c-c1a1-4b07-bfd4-2cf8bd2eedbf",
   "metadata": {
    "tags": []
   },
   "outputs": [],
   "source": [
    "import tarfile\n",
    "\n",
    "with tarfile.open('data/sample.tar.gz', 'w:gz') as tar:\n",
    "    tar.add('data/example0.txt')"
   ]
  },
  {
   "cell_type": "markdown",
   "id": "376e57ef-b1e5-4702-9cb4-43903802e13e",
   "metadata": {
    "tags": []
   },
   "source": [
    "# 61. Using zipfile to compress files"
   ]
  },
  {
   "cell_type": "code",
   "execution_count": 61,
   "id": "7dcca880-3f1a-4b5c-b40e-5170615f74f3",
   "metadata": {
    "tags": []
   },
   "outputs": [],
   "source": [
    "import zipfile\n",
    "\n",
    "with zipfile.ZipFile('data/sample.zip', 'w') as zipf:\n",
    "    zipf.write('data/example0.txt')"
   ]
  },
  {
   "cell_type": "markdown",
   "id": "50f477e5-93ae-4441-a36b-62202e0671ef",
   "metadata": {
    "tags": []
   },
   "source": [
    "# 62. Using pathlib for file paths"
   ]
  },
  {
   "cell_type": "code",
   "execution_count": 62,
   "id": "7ce4a88d-583b-46d6-8407-4ada11a714fc",
   "metadata": {
    "tags": []
   },
   "outputs": [
    {
     "name": "stdout",
     "output_type": "stream",
     "text": [
      "File name: example.txt\n",
      "File suffix: .txt\n",
      "File stem: example\n"
     ]
    }
   ],
   "source": [
    "from pathlib import Path\n",
    "\n",
    "path = Path('data/example.txt')\n",
    "print(f\"File name: {path.name}\")\n",
    "print(f\"File suffix: {path.suffix}\")\n",
    "print(f\"File stem: {path.stem}\")"
   ]
  },
  {
   "cell_type": "markdown",
   "id": "756a0fd9-e408-40ee-91c1-f2db80821de6",
   "metadata": {
    "tags": []
   },
   "source": [
    "# 63. Using tempfile for temporary files"
   ]
  },
  {
   "cell_type": "code",
   "execution_count": 63,
   "id": "410c925f-b049-4196-9a8b-30906840ff46",
   "metadata": {
    "tags": []
   },
   "outputs": [
    {
     "name": "stdout",
     "output_type": "stream",
     "text": [
      "Temporary file content: b'Some data'\n"
     ]
    }
   ],
   "source": [
    "import tempfile\n",
    "\n",
    "with tempfile.TemporaryFile() as tempf:\n",
    "    tempf.write(b'Some data')\n",
    "    tempf.seek(0)\n",
    "    print(f\"Temporary file content: {tempf.read()}\")"
   ]
  },
  {
   "cell_type": "markdown",
   "id": "3cf4bf43-04c7-4647-bc7f-6c987a6e0de6",
   "metadata": {
    "tags": []
   },
   "source": [
    "# 64. Using Enum for enumerations"
   ]
  },
  {
   "cell_type": "code",
   "execution_count": 64,
   "id": "b50dc79c-3a27-4346-9dd7-d04e0ba049c5",
   "metadata": {
    "tags": []
   },
   "outputs": [
    {
     "name": "stdout",
     "output_type": "stream",
     "text": [
      "Color.RED: Color.RED\n"
     ]
    }
   ],
   "source": [
    "from enum import Enum\n",
    "\n",
    "class Color(Enum):\n",
    "    RED = 1\n",
    "    GREEN = 2\n",
    "    BLUE = 3\n",
    "\n",
    "print(f\"Color.RED: {Color.RED}\")"
   ]
  },
  {
   "cell_type": "markdown",
   "id": "00dcfb50-4deb-4e29-b3a2-a2bcca419d8f",
   "metadata": {
    "tags": []
   },
   "source": [
    "# 65. Using type hints for function annotations"
   ]
  },
  {
   "cell_type": "code",
   "execution_count": 65,
   "id": "7c013d33-b004-4c88-9bf8-e26ac8597a8f",
   "metadata": {
    "tags": []
   },
   "outputs": [
    {
     "name": "stdout",
     "output_type": "stream",
     "text": [
      "Hello, Bernard\n"
     ]
    }
   ],
   "source": [
    "def greet(name: str) -> str:\n",
    "    return f\"Hello, {name}\"\n",
    "\n",
    "print(greet(\"Bernard\"))"
   ]
  },
  {
   "cell_type": "markdown",
   "id": "b17a6259-1cc3-4274-acbe-1c7d50b5f9e6",
   "metadata": {
    "tags": []
   },
   "source": [
    "# 66. Using dataclasses for boilerplate code"
   ]
  },
  {
   "cell_type": "code",
   "execution_count": 66,
   "id": "a9554fe8-8061-4dda-921d-bb4ace052195",
   "metadata": {
    "tags": []
   },
   "outputs": [
    {
     "name": "stdout",
     "output_type": "stream",
     "text": [
      "Dataclass point: Point(x=10, y=20)\n"
     ]
    }
   ],
   "source": [
    "from dataclasses import dataclass\n",
    "\n",
    "@dataclass\n",
    "class Point:\n",
    "    x: int\n",
    "    y: int\n",
    "\n",
    "point = Point(10, 20)\n",
    "print(f\"Dataclass point: {point}\")"
   ]
  },
  {
   "cell_type": "markdown",
   "id": "ed47aa90-a141-4f1f-a460-e9b0b5eca6a0",
   "metadata": {
    "tags": []
   },
   "source": [
    "# 67. Using __repr__ for object representation"
   ]
  },
  {
   "cell_type": "code",
   "execution_count": 67,
   "id": "8e2c3b9a-ed52-42c2-8356-fef564619916",
   "metadata": {
    "tags": []
   },
   "outputs": [
    {
     "name": "stdout",
     "output_type": "stream",
     "text": [
      "Point(10, 20)\n"
     ]
    }
   ],
   "source": [
    "class Point:\n",
    "    def __init__(self, x, y):\n",
    "        self.x = x\n",
    "        self.y = y\n",
    "\n",
    "    def __repr__(self):\n",
    "        return f\"Point({self.x}, {self.y})\"\n",
    "\n",
    "p = Point(10, 20)\n",
    "print(p)"
   ]
  },
  {
   "cell_type": "markdown",
   "id": "c9f93ef9-3646-4082-b8c4-806fbee7d3a5",
   "metadata": {
    "tags": []
   },
   "source": [
    "# 68. Using __str__ for readable object representation"
   ]
  },
  {
   "cell_type": "code",
   "execution_count": 68,
   "id": "7e3d2eeb-66d5-4b95-9939-b50ce5139382",
   "metadata": {
    "tags": []
   },
   "outputs": [
    {
     "name": "stdout",
     "output_type": "stream",
     "text": [
      "Alex, 60 years old\n"
     ]
    }
   ],
   "source": [
    "class Person:\n",
    "    def __init__(self, name, age):\n",
    "        self.name = name\n",
    "        self.age = age\n",
    "\n",
    "    def __str__(self):\n",
    "        return f\"{self.name}, {self.age} years old\"\n",
    "\n",
    "print(Person(\"Alex\", 60))"
   ]
  },
  {
   "cell_type": "markdown",
   "id": "dfee39c4-d961-4d3c-967a-cd851391bd8d",
   "metadata": {
    "tags": []
   },
   "source": [
    "# 69. Using slots to save memory"
   ]
  },
  {
   "cell_type": "code",
   "execution_count": 69,
   "id": "c9d8f0f6-7635-48d4-86c4-73c417efa217",
   "metadata": {
    "tags": []
   },
   "outputs": [
    {
     "name": "stdout",
     "output_type": "stream",
     "text": [
      "10 20\n"
     ]
    }
   ],
   "source": [
    "class Point:\n",
    "    __slots__ = ['x', 'y']\n",
    "\n",
    "    def __init__(self, x, y):\n",
    "        self.x = x\n",
    "        self.y = y\n",
    "\n",
    "p = Point(10, 20)\n",
    "print(p.x, p.y)"
   ]
  },
  {
   "cell_type": "markdown",
   "id": "761cdcd0-e8b4-4819-a76c-b481034efdc4",
   "metadata": {
    "tags": []
   },
   "source": [
    "# 70. Using generators for memory efficiency"
   ]
  },
  {
   "cell_type": "code",
   "execution_count": 70,
   "id": "f88d7e25-673b-454f-9b29-f1adc7d040d0",
   "metadata": {
    "tags": []
   },
   "outputs": [
    {
     "name": "stdout",
     "output_type": "stream",
     "text": [
      "[0, 1, 2, 3, 4, 5, 6, 7, 8, 9]\n"
     ]
    }
   ],
   "source": [
    "def generate_numbers(n):\n",
    "    for i in range(n):\n",
    "        yield i\n",
    "\n",
    "gen = generate_numbers(10)\n",
    "print(list(gen))"
   ]
  },
  {
   "cell_type": "markdown",
   "id": "a3e8469c-0a33-4d27-87c2-6f06a9740f84",
   "metadata": {
    "tags": []
   },
   "source": [
    "# 71. Using asyncio for asynchronous programming"
   ]
  },
  {
   "cell_type": "code",
   "execution_count": 71,
   "id": "4baa98b1-7fc2-4f5e-95e3-9ee41b80ec42",
   "metadata": {
    "tags": []
   },
   "outputs": [
    {
     "name": "stdout",
     "output_type": "stream",
     "text": [
      "Hello\n",
      "World\n"
     ]
    }
   ],
   "source": [
    "import nest_asyncio\n",
    "import asyncio\n",
    "\n",
    "nest_asyncio.apply()\n",
    "\n",
    "async def say_hello():\n",
    "    print(\"Hello\")\n",
    "    await asyncio.sleep(1)\n",
    "    print(\"World\")\n",
    "\n",
    "asyncio.run(say_hello())\n"
   ]
  },
  {
   "cell_type": "markdown",
   "id": "6b0a118b-1094-4794-9745-6e652ff0c93e",
   "metadata": {
    "tags": []
   },
   "source": [
    "# 72. Using dataclass for simple data containers"
   ]
  },
  {
   "cell_type": "code",
   "execution_count": 72,
   "id": "968458f3-bf82-4809-98cc-6e9a38756fb0",
   "metadata": {
    "tags": []
   },
   "outputs": [
    {
     "name": "stdout",
     "output_type": "stream",
     "text": [
      "Point(x=10, y=20)\n"
     ]
    }
   ],
   "source": [
    "from dataclasses import dataclass\n",
    "\n",
    "@dataclass\n",
    "class Point:\n",
    "    x: int\n",
    "    y: int\n",
    "\n",
    "p = Point(10, 20)\n",
    "print(p)"
   ]
  },
  {
   "cell_type": "markdown",
   "id": "5a7698cc-77fa-4c6d-908c-991e764f06b3",
   "metadata": {
    "tags": []
   },
   "source": [
    "# 73. Using collections.Counter for counting"
   ]
  },
  {
   "cell_type": "code",
   "execution_count": 73,
   "id": "4efd9b02-399b-4771-8c0a-45ed192c620d",
   "metadata": {
    "tags": []
   },
   "outputs": [
    {
     "name": "stdout",
     "output_type": "stream",
     "text": [
      "Counter({'apple': 2, 'banana': 1})\n"
     ]
    }
   ],
   "source": [
    "from collections import Counter\n",
    "\n",
    "words = [\"apple\", \"banana\", \"apple\"]\n",
    "counter = Counter(words)\n",
    "print(counter)"
   ]
  },
  {
   "cell_type": "markdown",
   "id": "9acaa7b5-efac-4490-bec8-3ba7c520fafc",
   "metadata": {
    "tags": []
   },
   "source": [
    "# 74. Using itertools.chain for flattening"
   ]
  },
  {
   "cell_type": "code",
   "execution_count": 74,
   "id": "aa8713fc-4a43-4483-9732-fb2b9ffce669",
   "metadata": {
    "tags": []
   },
   "outputs": [
    {
     "name": "stdout",
     "output_type": "stream",
     "text": [
      "[1, 2, 3, 4, 5, 6, 7, 8]\n"
     ]
    }
   ],
   "source": [
    "from itertools import chain\n",
    "\n",
    "lists = [[1, 2, 3], [4, 5], [6, 7, 8]]\n",
    "flat = list(chain.from_iterable(lists))\n",
    "print(flat)"
   ]
  },
  {
   "cell_type": "markdown",
   "id": "b41b2f85-db1f-4ffe-9f95-ee4a4ab37ada",
   "metadata": {
    "tags": []
   },
   "source": [
    "# 75. Using partial for function customization"
   ]
  },
  {
   "cell_type": "code",
   "execution_count": 75,
   "id": "abc1ef68-6ca5-4585-982d-13937d40304c",
   "metadata": {
    "tags": []
   },
   "outputs": [
    {
     "name": "stdout",
     "output_type": "stream",
     "text": [
      "16\n"
     ]
    }
   ],
   "source": [
    "from functools import partial\n",
    "\n",
    "def power(base, exponent):\n",
    "    return base ** exponent\n",
    "\n",
    "square = partial(power, exponent=2)\n",
    "print(square(4))"
   ]
  },
  {
   "cell_type": "markdown",
   "id": "fb248253-0a8d-4346-bd7c-b624184e0c48",
   "metadata": {
    "tags": []
   },
   "source": [
    "# 76. Using map for element-wise operations"
   ]
  },
  {
   "cell_type": "code",
   "execution_count": 76,
   "id": "ec42900f-5b6a-4ced-8f47-a2e5c84a4f7a",
   "metadata": {
    "tags": []
   },
   "outputs": [
    {
     "name": "stdout",
     "output_type": "stream",
     "text": [
      "[1, 4, 9]\n"
     ]
    }
   ],
   "source": [
    "numbers = [1, 2, 3]\n",
    "squares = list(map(lambda x: x**2, numbers))\n",
    "print(squares)"
   ]
  },
  {
   "cell_type": "markdown",
   "id": "57d59484-b49b-47a9-8d3d-c560dda5515a",
   "metadata": {
    "tags": []
   },
   "source": [
    "# 77. Using filter for filtering elements"
   ]
  },
  {
   "cell_type": "code",
   "execution_count": 77,
   "id": "cf3b8bbf-51e2-442d-b3cb-079087e383d7",
   "metadata": {
    "tags": []
   },
   "outputs": [
    {
     "name": "stdout",
     "output_type": "stream",
     "text": [
      "[2, 4, 6]\n"
     ]
    }
   ],
   "source": [
    "numbers = [1, 2, 3, 4, 5, 6]\n",
    "evens = list(filter(lambda x: x % 2 == 0, numbers))\n",
    "print(evens)"
   ]
  },
  {
   "cell_type": "markdown",
   "id": "9034d766-bc16-42db-8c7c-c1d2048c323b",
   "metadata": {
    "tags": []
   },
   "source": [
    "# 78. Using reduce for aggregation"
   ]
  },
  {
   "cell_type": "code",
   "execution_count": 78,
   "id": "3dd82717-30bd-42cf-97b1-60149f3942dd",
   "metadata": {
    "tags": []
   },
   "outputs": [
    {
     "name": "stdout",
     "output_type": "stream",
     "text": [
      "15\n"
     ]
    }
   ],
   "source": [
    "from functools import reduce\n",
    "\n",
    "numbers = [1, 2, 3, 4, 5]\n",
    "total = reduce(lambda x, y: x + y, numbers)\n",
    "print(total)"
   ]
  },
  {
   "cell_type": "markdown",
   "id": "f2dcfec0-0a82-4a68-bfe8-403b2afea0f7",
   "metadata": {
    "tags": []
   },
   "source": [
    "# 79. Using namedtuple for structured data"
   ]
  },
  {
   "cell_type": "code",
   "execution_count": 79,
   "id": "a36db239-7561-402f-8bd5-ad16bc3de5cd",
   "metadata": {
    "tags": []
   },
   "outputs": [
    {
     "name": "stdout",
     "output_type": "stream",
     "text": [
      "Point(x=10, y=20)\n"
     ]
    }
   ],
   "source": [
    "from collections import namedtuple\n",
    "\n",
    "Point = namedtuple('Point', ['x', 'y'])\n",
    "p = Point(10, 20)\n",
    "print(p)"
   ]
  },
  {
   "cell_type": "markdown",
   "id": "7b80651d-33a7-4d02-ab4c-0e290df8bec2",
   "metadata": {
    "tags": []
   },
   "source": [
    "# 80. Using frozenset for immutable sets"
   ]
  },
  {
   "cell_type": "code",
   "execution_count": 80,
   "id": "6796a042-f221-4651-a1b9-fbc07229d93b",
   "metadata": {
    "tags": []
   },
   "outputs": [
    {
     "name": "stdout",
     "output_type": "stream",
     "text": [
      "frozenset({1, 2, 3})\n"
     ]
    }
   ],
   "source": [
    "fs = frozenset([1, 2, 3])\n",
    "print(fs)"
   ]
  },
  {
   "cell_type": "markdown",
   "id": "72bdc426-1f60-44ad-9a31-cf710b669942",
   "metadata": {
    "tags": []
   },
   "source": [
    "# 81. Using heapq for priority queue"
   ]
  },
  {
   "cell_type": "code",
   "execution_count": 81,
   "id": "7b68e15b-fed7-442a-9828-c3695d182522",
   "metadata": {
    "tags": []
   },
   "outputs": [
    {
     "name": "stdout",
     "output_type": "stream",
     "text": [
      "[1, 3, 9, 7, 5]\n"
     ]
    }
   ],
   "source": [
    "import heapq\n",
    "\n",
    "numbers = [5, 7, 9, 1, 3]\n",
    "heapq.heapify(numbers)\n",
    "print(numbers)"
   ]
  },
  {
   "cell_type": "markdown",
   "id": "d8346493-80c6-44dd-82da-f2d958167652",
   "metadata": {
    "tags": []
   },
   "source": [
    "# 82. Using bisect for binary search"
   ]
  },
  {
   "cell_type": "code",
   "execution_count": 82,
   "id": "28c0cc80-1dff-42f9-b0e5-e373231e4d72",
   "metadata": {
    "tags": []
   },
   "outputs": [
    {
     "name": "stdout",
     "output_type": "stream",
     "text": [
      "[1, 2, 3, 4, 5]\n"
     ]
    }
   ],
   "source": [
    "import bisect\n",
    "\n",
    "numbers = [1, 2, 4, 5]\n",
    "bisect.insort(numbers, 3)\n",
    "print(numbers)"
   ]
  },
  {
   "cell_type": "markdown",
   "id": "3bc17dbd-2953-4bce-b4e5-199bceacae4c",
   "metadata": {
    "tags": []
   },
   "source": [
    "# 83. Using itertools.islice for slicing iterators"
   ]
  },
  {
   "cell_type": "code",
   "execution_count": 83,
   "id": "c22f6018-3dea-48b9-97ae-670b184871a7",
   "metadata": {
    "tags": []
   },
   "outputs": [
    {
     "name": "stdout",
     "output_type": "stream",
     "text": [
      "[2, 3, 4, 5]\n"
     ]
    }
   ],
   "source": [
    "from itertools import islice\n",
    "\n",
    "iterable = range(10)\n",
    "sliced = list(islice(iterable, 2, 6))\n",
    "print(sliced)"
   ]
  },
  {
   "cell_type": "markdown",
   "id": "625ec38c-7f84-4c62-8d9f-3bbdbb94d695",
   "metadata": {
    "tags": []
   },
   "source": [
    "# 84. Using zip_longest for padding"
   ]
  },
  {
   "cell_type": "code",
   "execution_count": 84,
   "id": "12f906a2-4efc-477d-be6e-1b96ec27e8b0",
   "metadata": {
    "tags": []
   },
   "outputs": [
    {
     "name": "stdout",
     "output_type": "stream",
     "text": [
      "[(1, 3), (2, 4), (0, 5)]\n"
     ]
    }
   ],
   "source": [
    "from itertools import zip_longest\n",
    "\n",
    "a = [1, 2]\n",
    "b = [3, 4, 5]\n",
    "zipped = list(zip_longest(a, b, fillvalue=0))\n",
    "print(zipped)"
   ]
  },
  {
   "cell_type": "markdown",
   "id": "97441111-cc95-4408-8ecc-c0376735ccf7",
   "metadata": {
    "tags": []
   },
   "source": [
    "# 85. Using permutations for permutations"
   ]
  },
  {
   "cell_type": "code",
   "execution_count": 85,
   "id": "610c872a-8cf0-4e79-96d8-d25fefe03fa8",
   "metadata": {
    "tags": []
   },
   "outputs": [
    {
     "name": "stdout",
     "output_type": "stream",
     "text": [
      "[('A', 'B', 'C'), ('A', 'C', 'B'), ('B', 'A', 'C'), ('B', 'C', 'A'), ('C', 'A', 'B'), ('C', 'B', 'A')]\n"
     ]
    }
   ],
   "source": [
    "from itertools import permutations\n",
    "\n",
    "perm = list(permutations('ABC'))\n",
    "print(perm)"
   ]
  },
  {
   "cell_type": "markdown",
   "id": "33b1b5b8-d70d-45e6-8769-e6713f716c1c",
   "metadata": {
    "tags": []
   },
   "source": [
    "# 86. Using combinations for combinations"
   ]
  },
  {
   "cell_type": "code",
   "execution_count": 86,
   "id": "cb97da1f-17c7-4ba3-abe4-2d5e8bbd13c8",
   "metadata": {
    "tags": []
   },
   "outputs": [
    {
     "name": "stdout",
     "output_type": "stream",
     "text": [
      "[('A', 'B'), ('A', 'C'), ('B', 'C')]\n"
     ]
    }
   ],
   "source": [
    "from itertools import combinations\n",
    "\n",
    "comb = list(combinations('ABC', 2))\n",
    "print(comb)"
   ]
  },
  {
   "cell_type": "markdown",
   "id": "44272913-7036-46d3-943e-9ff47438bda5",
   "metadata": {
    "tags": []
   },
   "source": [
    "# 87. Using combinations_with_replacement"
   ]
  },
  {
   "cell_type": "code",
   "execution_count": 87,
   "id": "548955d7-9539-48c4-ba1b-8b3a7e349af4",
   "metadata": {
    "tags": []
   },
   "outputs": [
    {
     "name": "stdout",
     "output_type": "stream",
     "text": [
      "[('A', 'A'), ('A', 'B'), ('A', 'C'), ('B', 'B'), ('B', 'C'), ('C', 'C')]\n"
     ]
    }
   ],
   "source": [
    "from itertools import combinations_with_replacement\n",
    "\n",
    "comb_wr = list(combinations_with_replacement('ABC', 2))\n",
    "print(comb_wr)"
   ]
  },
  {
   "cell_type": "markdown",
   "id": "79c89518-b074-482a-9fad-d8518d0dcf17",
   "metadata": {
    "tags": []
   },
   "source": [
    "# 88. Using lru_cache for memoization"
   ]
  },
  {
   "cell_type": "code",
   "execution_count": 88,
   "id": "91f8133f-ad94-4ed6-9911-7b8f56f2cdcb",
   "metadata": {
    "tags": []
   },
   "outputs": [
    {
     "name": "stdout",
     "output_type": "stream",
     "text": [
      "55\n"
     ]
    }
   ],
   "source": [
    "from functools import lru_cache\n",
    "\n",
    "@lru_cache(maxsize=None)\n",
    "def fibonacci(n):\n",
    "    if n < 2:\n",
    "        return n\n",
    "    return fibonacci(n-1) + fibonacci(n-2)\n",
    "\n",
    "print(fibonacci(10))"
   ]
  },
  {
   "cell_type": "markdown",
   "id": "edac4a7b-c683-4148-8171-0438c0890002",
   "metadata": {
    "tags": []
   },
   "source": [
    "# 89. Using contextlib for context managers"
   ]
  },
  {
   "cell_type": "code",
   "execution_count": 89,
   "id": "6dbb6b43-a14d-4d59-a931-6f24940163d8",
   "metadata": {
    "tags": []
   },
   "outputs": [
    {
     "name": "stdout",
     "output_type": "stream",
     "text": [
      "Entering\n",
      "Inside\n",
      "Exiting\n"
     ]
    }
   ],
   "source": [
    "from contextlib import contextmanager\n",
    "\n",
    "@contextmanager\n",
    "def simple_context():\n",
    "    print(\"Entering\")\n",
    "    yield\n",
    "    print(\"Exiting\")\n",
    "\n",
    "with simple_context():\n",
    "    print(\"Inside\")"
   ]
  },
  {
   "cell_type": "markdown",
   "id": "27fc1825-25c9-414d-bc28-dfb5a4379a4e",
   "metadata": {
    "tags": []
   },
   "source": [
    "# 90. Using deque for fast appends/pops"
   ]
  },
  {
   "cell_type": "code",
   "execution_count": 90,
   "id": "5072d534-8863-4dbe-ab30-c04acc6798f0",
   "metadata": {
    "tags": []
   },
   "outputs": [
    {
     "name": "stdout",
     "output_type": "stream",
     "text": [
      "deque([0, 1, 2, 3, 4])\n"
     ]
    }
   ],
   "source": [
    "from collections import deque\n",
    "\n",
    "dq = deque([1, 2, 3])\n",
    "dq.appendleft(0)\n",
    "dq.append(4)\n",
    "print(dq)"
   ]
  },
  {
   "cell_type": "markdown",
   "id": "8b26c306-cdb9-4110-89ad-9be38f98d01f",
   "metadata": {
    "tags": []
   },
   "source": [
    "# 91. Using Enum for enumerations"
   ]
  },
  {
   "cell_type": "code",
   "execution_count": 91,
   "id": "0aad0177-39f3-4d53-91b1-aebba262f387",
   "metadata": {
    "tags": []
   },
   "outputs": [
    {
     "name": "stdout",
     "output_type": "stream",
     "text": [
      "Color.RED\n"
     ]
    }
   ],
   "source": [
    "from enum import Enum\n",
    "\n",
    "class Color(Enum):\n",
    "    RED = 1\n",
    "    GREEN = 2\n",
    "    BLUE = 3\n",
    "\n",
    "print(Color.RED)"
   ]
  },
  {
   "cell_type": "markdown",
   "id": "03a23fb6-356d-4376-bb99-02b0d926c8ec",
   "metadata": {
    "tags": []
   },
   "source": [
    "# 92. Using pathlib for file paths"
   ]
  },
  {
   "cell_type": "code",
   "execution_count": 92,
   "id": "b23d6998-7146-4023-b446-a67c875e85ab",
   "metadata": {
    "tags": []
   },
   "outputs": [
    {
     "name": "stdout",
     "output_type": "stream",
     "text": [
      "example.txt .txt\n"
     ]
    }
   ],
   "source": [
    "from pathlib import Path\n",
    "\n",
    "path = Path('data/example.txt')\n",
    "print(path.name, path.suffix)"
   ]
  },
  {
   "cell_type": "markdown",
   "id": "d851d392-57b8-447c-babc-61a6e2496013",
   "metadata": {
    "tags": []
   },
   "source": [
    "# 93. Using tempfile for temp files"
   ]
  },
  {
   "cell_type": "code",
   "execution_count": 93,
   "id": "7903ff30-2291-4f4b-8850-2322ca660bb4",
   "metadata": {
    "tags": []
   },
   "outputs": [
    {
     "name": "stdout",
     "output_type": "stream",
     "text": [
      "b'Some data'\n"
     ]
    }
   ],
   "source": [
    "import tempfile\n",
    "\n",
    "with tempfile.TemporaryFile() as tempf:\n",
    "    tempf.write(b'Some data')\n",
    "    tempf.seek(0)\n",
    "    print(tempf.read())"
   ]
  },
  {
   "cell_type": "markdown",
   "id": "fbe0be1c-3680-453e-add5-7b4bd3405f54",
   "metadata": {
    "tags": []
   },
   "source": [
    "# 94. Using type hints for annotations"
   ]
  },
  {
   "cell_type": "code",
   "execution_count": 94,
   "id": "c508f7eb-0e91-4a6f-af5d-db39d3247cda",
   "metadata": {
    "tags": []
   },
   "outputs": [
    {
     "name": "stdout",
     "output_type": "stream",
     "text": [
      "Hello, Akaawase\n"
     ]
    }
   ],
   "source": [
    "def greet(name: str) -> str:\n",
    "    return f\"Hello, {name}\"\n",
    "\n",
    "print(greet(\"Akaawase\"))"
   ]
  },
  {
   "cell_type": "markdown",
   "id": "36ea2137-7210-41c7-8a08-162a11f8cb13",
   "metadata": {
    "tags": []
   },
   "source": [
    "# 95. Using dataclass for data containers"
   ]
  },
  {
   "cell_type": "code",
   "execution_count": 95,
   "id": "7e805b70-129a-4049-a752-2e210038eaf9",
   "metadata": {
    "tags": []
   },
   "outputs": [
    {
     "name": "stdout",
     "output_type": "stream",
     "text": [
      "Point(x=10, y=20)\n"
     ]
    }
   ],
   "source": [
    "from dataclasses import dataclass\n",
    "\n",
    "@dataclass\n",
    "class Point:\n",
    "    x: int\n",
    "    y: int\n",
    "\n",
    "p = Point(10, 20)\n",
    "print(p)"
   ]
  },
  {
   "cell_type": "markdown",
   "id": "930eefcd-ff64-4685-aeb7-312ba3083591",
   "metadata": {
    "tags": []
   },
   "source": [
    "# 96. Using collections.ChainMap for multiple dicts"
   ]
  },
  {
   "cell_type": "code",
   "execution_count": 96,
   "id": "a3431b08-303b-426b-b6af-66e356486bfd",
   "metadata": {
    "tags": []
   },
   "outputs": [
    {
     "name": "stdout",
     "output_type": "stream",
     "text": [
      "ChainMap({'a': 1}, {'b': 2})\n"
     ]
    }
   ],
   "source": [
    "from collections import ChainMap\n",
    "\n",
    "dict1 = {'a': 1}\n",
    "dict2 = {'b': 2}\n",
    "chain = ChainMap(dict1, dict2)\n",
    "print(chain)"
   ]
  },
  {
   "cell_type": "markdown",
   "id": "93cc2d5b-0637-412e-afa8-67e3baaa266d",
   "metadata": {
    "tags": []
   },
   "source": [
    "# 97. Using tarfile for compression"
   ]
  },
  {
   "cell_type": "code",
   "execution_count": 97,
   "id": "0848000d-f163-4024-b37c-836fea33f669",
   "metadata": {
    "tags": []
   },
   "outputs": [],
   "source": [
    "import tarfile\n",
    "\n",
    "with tarfile.open('data/sample.tar.gz', 'w:gz') as tar:\n",
    "    tar.add('data/example0.txt')"
   ]
  },
  {
   "cell_type": "markdown",
   "id": "e61c6e29-43b7-4e3d-b292-5a2b560a9b71",
   "metadata": {
    "tags": []
   },
   "source": [
    "# 98. Using zipfile for compression"
   ]
  },
  {
   "cell_type": "code",
   "execution_count": 98,
   "id": "0bd03951-7978-479b-87c0-5072528386eb",
   "metadata": {
    "tags": []
   },
   "outputs": [],
   "source": [
    "import zipfile\n",
    "\n",
    "with zipfile.ZipFile('data/sample.zip', 'w') as zipf:\n",
    "    zipf.write('data/example.txt')"
   ]
  },
  {
   "cell_type": "markdown",
   "id": "117e3479-3269-4570-8bce-5da31ac86d0c",
   "metadata": {
    "tags": []
   },
   "source": [
    "# 99. Using __slots__ to save memory"
   ]
  },
  {
   "cell_type": "code",
   "execution_count": 99,
   "id": "3ef2fa61-5eb2-4959-bbc4-3a4d462af5cb",
   "metadata": {
    "tags": []
   },
   "outputs": [
    {
     "name": "stdout",
     "output_type": "stream",
     "text": [
      "10 20\n"
     ]
    }
   ],
   "source": [
    "class Point:\n",
    "    __slots__ = ['x', 'y']\n",
    "\n",
    "    def __init__(self, x, y):\n",
    "        self.x = x\n",
    "        self.y = y\n",
    "\n",
    "p = Point(10, 20)\n",
    "print(p.x, p.y)"
   ]
  },
  {
   "cell_type": "markdown",
   "id": "6cf874e8-b756-4bef-b0cc-4eaaf647d1bb",
   "metadata": {
    "tags": []
   },
   "source": [
    "# 100. Using generators for memory efficiency"
   ]
  },
  {
   "cell_type": "code",
   "execution_count": 100,
   "id": "ff615234-d0f2-443e-803d-2eaad0674011",
   "metadata": {
    "tags": []
   },
   "outputs": [
    {
     "name": "stdout",
     "output_type": "stream",
     "text": [
      "[0, 1, 2, 3, 4, 5, 6, 7, 8, 9]\n",
      "This script contains 100 handy Python shortcuts.\n"
     ]
    }
   ],
   "source": [
    "def generate_numbers(n):\n",
    "    for i in range(n):\n",
    "        yield i\n",
    "\n",
    "gen = generate_numbers(10)\n",
    "print(list(gen))\n",
    "\n",
    "if __name__ == \"__main__\":\n",
    "    print(\"This script contains 100 handy Python shortcuts.\")"
   ]
  },
  {
   "cell_type": "code",
   "execution_count": null,
   "id": "44c28b36-813e-4b27-805d-ed21e7ab9782",
   "metadata": {},
   "outputs": [],
   "source": []
  }
 ],
 "metadata": {
  "kernelspec": {
   "display_name": "Python 3 (ipykernel)",
   "language": "python",
   "name": "python3"
  },
  "language_info": {
   "codemirror_mode": {
    "name": "ipython",
    "version": 3
   },
   "file_extension": ".py",
   "mimetype": "text/x-python",
   "name": "python",
   "nbconvert_exporter": "python",
   "pygments_lexer": "ipython3",
   "version": "3.11.2"
  }
 },
 "nbformat": 4,
 "nbformat_minor": 5
}
